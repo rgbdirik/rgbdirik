{
  "nbformat": 4,
  "nbformat_minor": 0,
  "metadata": {
    "colab": {
      "provenance": [],
      "authorship_tag": "ABX9TyM7pFfTcQKx5Tp+05/PG6GB",
      "include_colab_link": true
    },
    "kernelspec": {
      "name": "python3",
      "display_name": "Python 3"
    },
    "language_info": {
      "name": "python"
    }
  },
  "cells": [
    {
      "cell_type": "markdown",
      "metadata": {
        "id": "view-in-github",
        "colab_type": "text"
      },
      "source": [
        "<a href=\"https://colab.research.google.com/github/rgbdirik/rgbdirik/blob/main/print_fonksiyonuna_dair_her_%C5%9Fey.ipynb\" target=\"_parent\"><img src=\"https://colab.research.google.com/assets/colab-badge.svg\" alt=\"Open In Colab\"/></a>"
      ]
    },
    {
      "cell_type": "code",
      "execution_count": 15,
      "metadata": {
        "colab": {
          "base_uri": "https://localhost:8080/"
        },
        "id": "oRVu3dMvwYRc",
        "outputId": "ccdf223f-c54a-41cb-990b-133be66e983a"
      },
      "outputs": [
        {
          "output_type": "stream",
          "name": "stdout",
          "text": [
            "Merhaba Dünya\n",
            "Çift tırnak kullanıldığı gibi, tek tırnakta kullanılabilir.\n",
            "------------------------------------------------------------\n",
            "Merhaba, dünya!\n",
            "Python ile programlama\n",
            "------------------------------------------------------------\n",
            "İsim: Regaib DİRİK \n",
            "Yaş: 30\n",
            "------------------------------------------------------------\n",
            "Sayı: 42 \n",
            "Ondalıklı sayı : 3.14 \n",
            "Doğru Yanlış : True\n",
            "------------------------------------------------------------\n",
            "Benim adım Regaib ve ben 30 yaşındayım.\n",
            "Benim adım Regaib ve ben 30 yaşındayım.\n",
            "------------------------------------------------------------\n",
            "Python, programlama!\n",
            "------------------------------------------------------------\n",
            "Merhaba Dünya!\n",
            "------------------------------------------------------------\n",
            "Python-ile-programlama\n",
            "------------------------------------------------------------\n",
            "Python-ile-programlama!\n"
          ]
        }
      ],
      "source": [
        "# print fonksiyonunun kullanımı\n",
        "print(\"Merhaba Dünya\") # Ekrana yazı yazdırmak için kullanılır.\n",
        "print('Çift tırnak kullanıldığı gibi, tek tırnakta kullanılabilir.')\n",
        "print(\"------------------------------------------------------------\")\n",
        "# Bir veya birden fazla değeri ekrana yazdırmak için kullanabilirsiniz.\n",
        "print(\"Merhaba, dünya!\")\n",
        "print(\"Python\", \"ile\", \"programlama\")\n",
        "print(\"------------------------------------------------------------\")\n",
        "# Değişken değerlerini print() fonksiyonu ile ekrana yazdırabilirsiniz.\n",
        "name = \"Regaib DİRİK\"\n",
        "age = 30\n",
        "print(\"İsim:\", name, \"\\nYaş:\", age) # \\n ifadesi ile bir alt satıra geçiş yapabilirsiniz.\n",
        "print(\"------------------------------------------------------------\")\n",
        "# Farklı türde verileri bir arada yazdırabilirsiniz.\n",
        "sayi = 42\n",
        "ondalikli_sayi = 3.14\n",
        "dogru_yanlis = True\n",
        "print(\"Sayı:\", sayi, \"\\nOndalıklı sayı :\", ondalikli_sayi, \"\\nDoğru Yanlış :\", dogru_yanlis)\n",
        "print(\"------------------------------------------------------------\")\n",
        "# f-string kullanarak değişkenleri veya ifadeleri formatlayabilirsiniz.\n",
        "ad = \"Regaib\"\n",
        "yas = 30\n",
        "print(f\"Benim adım {ad} ve ben {yas} yaşındayım.\") # Bu kullanımı şu şekilde yapmanızda mümkün!\n",
        "print(\"Benim adım {} ve ben {} yaşındayım.\".format(ad,yas)) # Burda da format fonksiyonunu kullandık.\n",
        "print(\"------------------------------------------------------------\")\n",
        "''' print() fonksiyonu değerleri birbirlerinden ayırmak için boşluk kullanır ve bir newline karakteri ekler.\n",
        "    Ancak, bu davranışı değiştirmek için end parametresini kullanabilirsiniz. '''\n",
        "print(\"Python\", end=\", \")\n",
        "print(\"programlama\", end=\"!\\n\")\n",
        "print(\"------------------------------------------------------------\")\n",
        "\"\"\"end parametresi, print() fonksiyonunun çıktıda hangi karakterle sona ereceğini belirler.\n",
        "Varsayılan olarak, end parametresi \"\\n\" (newline karakteri) değerine sahiptir,\n",
        "yani her print() çağrısının ardından bir satır atlama yapar. \"\"\"\n",
        "print(\"Merhaba\", end=\" \")  # Çıktı: Merhaba\n",
        "print(\"Dünya!\")  # Bu satırın sonu \" \" karakteri ile biter\n",
        "print(\"------------------------------------------------------------\")\n",
        "'''sep parametresi, print() fonksiyonunun argümanları arasına hangi karakterin ekleneceğini belirler.\n",
        "Varsayılan olarak, sep parametresi bir boşluk karakterine sahiptir. '''\n",
        "print(\"Python\", \"ile\", \"programlama\", sep=\"-\")\n",
        "print(\"------------------------------------------------------------\")\n",
        "# iki parametrenin birlikte kullanımı.\n",
        "print(\"Python\", \"ile\", \"programlama\", sep=\"-\", end=\"!\\n\")\n",
        "\n"
      ]
    }
  ]
}