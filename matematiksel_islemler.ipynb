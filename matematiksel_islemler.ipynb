{
  "nbformat": 4,
  "nbformat_minor": 0,
  "metadata": {
    "colab": {
      "provenance": [],
      "authorship_tag": "ABX9TyO/98iSxd1rAKnDAUEZeogR"
    },
    "kernelspec": {
      "name": "python3",
      "display_name": "Python 3"
    },
    "language_info": {
      "name": "python"
    }
  },
  "cells": [
    {
      "cell_type": "code",
      "execution_count": null,
      "metadata": {
        "id": "YYiD81m6Xvg9",
        "colab": {
          "base_uri": "https://localhost:8080/"
        },
        "outputId": "01222100-cb77-475c-ea64-bd8cbc2b6021"
      },
      "outputs": [
        {
          "output_type": "stream",
          "name": "stdout",
          "text": [
            "Toplam =  22\n"
          ]
        }
      ],
      "source": [
        "a=10\n",
        "b=12\n",
        "toplam = a+b\n",
        "print(\"Toplam = \",toplam)"
      ]
    },
    {
      "cell_type": "code",
      "source": [
        "a= 24\n",
        "b= 13\n",
        "cikarma=a-b\n",
        "print(\"Çıkarma sonucu : \",cikarma)"
      ],
      "metadata": {
        "colab": {
          "base_uri": "https://localhost:8080/"
        },
        "id": "AZMKB0hI_pi3",
        "outputId": "cdf52ee9-a8ac-468e-9110-d745b403983c"
      },
      "execution_count": 1,
      "outputs": [
        {
          "output_type": "stream",
          "name": "stdout",
          "text": [
            "Çıkarma sonucu :  11\n"
          ]
        }
      ]
    },
    {
      "cell_type": "code",
      "source": [
        "a= int(input(\"a sayısını giriniz : \"))\n",
        "b= int(input(\"b sayısını giriniz : \"))\n",
        "carpim =a*b\n",
        "print(\"Çarpım sonucu = \",carpim)"
      ],
      "metadata": {
        "colab": {
          "base_uri": "https://localhost:8080/"
        },
        "id": "5XykLCAD_8mO",
        "outputId": "e5aad8f8-a04c-4ffe-f410-c38b552b461f"
      },
      "execution_count": 2,
      "outputs": [
        {
          "output_type": "stream",
          "name": "stdout",
          "text": [
            "a sayısını giriniz : 7\n",
            "b sayısını giriniz : 8\n",
            "Çarpım sonucu =  56\n"
          ]
        }
      ]
    },
    {
      "cell_type": "code",
      "source": [
        "a= int(input(\"a sayısını giriniz : \"))\n",
        "b= int(input(\"b sayısını giriniz : \"))\n",
        "bolum =a/b\n",
        "print(\"Bölüm sonucu = \",bolum)"
      ],
      "metadata": {
        "colab": {
          "base_uri": "https://localhost:8080/"
        },
        "id": "pZcVZnc5Ad79",
        "outputId": "0afad7bb-c095-4b74-bdc6-8fabbd7453b9"
      },
      "execution_count": 3,
      "outputs": [
        {
          "output_type": "stream",
          "name": "stdout",
          "text": [
            "a sayısını giriniz : 17\n",
            "b sayısını giriniz : 5\n",
            "Bölüm sonucu =  3.4\n"
          ]
        }
      ]
    },
    {
      "cell_type": "code",
      "source": [
        "a= int(input(\"a sayısını giriniz : \"))\n",
        "b= int(input(\"b sayısını giriniz : \"))\n",
        "tamsayi_bolme =a//b\n",
        "print(\"Tamsayi bölüm sonucu = \",tamsayi_bolme)"
      ],
      "metadata": {
        "colab": {
          "base_uri": "https://localhost:8080/"
        },
        "id": "vxLl06uZAtxE",
        "outputId": "fa75da54-7370-450c-85c9-7766cb29cd1d"
      },
      "execution_count": 5,
      "outputs": [
        {
          "output_type": "stream",
          "name": "stdout",
          "text": [
            "a sayısını giriniz : 17\n",
            "b sayısını giriniz : 5\n",
            "Tamsayi bölüm sonucu =  3\n"
          ]
        }
      ]
    },
    {
      "cell_type": "code",
      "source": [
        "a= int(input(\"a sayısını giriniz : \"))\n",
        "b= int(input(\"b sayısını giriniz : \"))\n",
        "kare_alma =a**b\n",
        "print(\"Bölüm sonucu = \",kare_alma)"
      ],
      "metadata": {
        "colab": {
          "base_uri": "https://localhost:8080/"
        },
        "id": "G9EIe81DBAg7",
        "outputId": "b41e687d-d863-4416-a017-10c0df9c1e73"
      },
      "execution_count": 6,
      "outputs": [
        {
          "output_type": "stream",
          "name": "stdout",
          "text": [
            "a sayısını giriniz : 3\n",
            "b sayısını giriniz : 4\n",
            "Bölüm sonucu =  81\n"
          ]
        }
      ]
    },
    {
      "cell_type": "code",
      "source": [
        "a= int(input(\"a sayısını giriniz : \"))\n",
        "b= int(input(\"b sayısını giriniz : \"))\n",
        "mod_alma =a%b\n",
        "print(\"Mod alma sonucu = \",mod_alma)"
      ],
      "metadata": {
        "colab": {
          "base_uri": "https://localhost:8080/"
        },
        "id": "uLpM8u9LBKvB",
        "outputId": "70b5e025-b3f6-477e-8c6d-3b887c0301d0"
      },
      "execution_count": 7,
      "outputs": [
        {
          "output_type": "stream",
          "name": "stdout",
          "text": [
            "a sayısını giriniz : 12\n",
            "b sayısını giriniz : 7\n",
            "Mod alma sonucu =  5\n"
          ]
        }
      ]
    }
  ]
}