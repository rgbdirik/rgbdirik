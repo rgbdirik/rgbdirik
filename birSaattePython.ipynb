{
  "nbformat": 4,
  "nbformat_minor": 0,
  "metadata": {
    "colab": {
      "provenance": [],
      "authorship_tag": "ABX9TyPLZygkJOE9QacX4JMRMCaj",
      "include_colab_link": true
    },
    "kernelspec": {
      "name": "python3",
      "display_name": "Python 3"
    },
    "language_info": {
      "name": "python"
    }
  },
  "cells": [
    {
      "cell_type": "markdown",
      "metadata": {
        "id": "view-in-github",
        "colab_type": "text"
      },
      "source": [
        "<a href=\"https://colab.research.google.com/github/rgbdirik/rgbdirik/blob/python_programming/birSaattePython.ipynb\" target=\"_parent\"><img src=\"https://colab.research.google.com/assets/colab-badge.svg\" alt=\"Open In Colab\"/></a>"
      ]
    },
    {
      "cell_type": "code",
      "source": [
        "\"\"\"\n",
        "\n",
        "# Değişkenler\n",
        "x=3                                                                             # tamsayı atama\n",
        "print(x)\n",
        "print(\"X değişkeninin tipi : \",type(x),\"' dır.\")\n",
        "isim = \"enes\"                                                                 # string değişken atama\n",
        "print(isim)\n",
        "print(\"isim değişkeninin tipi : \",type(isim),\"' dir.\")\n",
        "fiyat = 13.95                                                                   # float değişken atama\n",
        "print(fiyat)\n",
        "print(\"fiyat değişkenini tipi : \",type(fiyat),\"' dır.\")\n",
        "aldimi = False                                                                  # boolean değişken atama\n",
        "print(\"aldimi değişkeninin tipi : \",type(aldimi),\"' dir.\")\n",
        "\n",
        "isim = input(\"Lütfen adınızı giriniz : \")                                       # klavyeden giriş yapmak için kullanılır.\n",
        "print(\"Merhaba \"+isim)                                                          # stringleri birleştirmek için + işaretini kullanıyoruz.\n",
        "\n",
        "yemek = input(\"Sevdiğiniz yemeği giriniz : \")\n",
        "print(isim+\"' in en sevdiği yemek \"+yemek+\" dır.\")\n",
        "yas = input(\"Lutfen yasınızı giriniz : \")\n",
        "yas_gir= 32\n",
        "print(isim+\" \"+yas+\" yasındadır.\")\n",
        "print(isim+\" \"+str(yas_gir)+\" yasındadır.\")\n",
        "\n",
        "# Matematiksel işlemler:\n",
        "\n",
        "x = 10\n",
        "y = 4\n",
        "print(\"*** DÖRT İŞLEM ***\")\n",
        "print(\"Toplam = \",x+y)\n",
        "print(\"Çıkarma = \",x-y)\n",
        "print(\"Bölme = \",x/y)\n",
        "print(\"Çarpma = \",x*y)\n",
        "print(\"Tam olarak bölme = \",x//y)\n",
        "print(\"Bölme de kalan bulmak için yüzde(%) ifadesi kullanılır. Sonuç = \",x%y)\n",
        "print(\"Üs almak için ** ifadesi kullanılır. Sonuç = \", x**y)\n",
        "\n",
        "# Kullanıcıdan ıkı sayı alan ve işlem yapan.\n",
        "\n",
        "sayi1 = int(input(\"Birinci sayıyı giriniz : \"))\n",
        "sayi2 = int(input(\"İkinci sayıyı giriniz : \"))\n",
        "print(\"Toplam = \",sayi1+sayi2)\n",
        "\n",
        "a = -15\n",
        "print(abs(a))         # abs fonksiyonu mutlak değer almak için kullanılır.\n",
        "\n",
        "\"\"\"\n",
        "\n",
        "isim = \"Regaib DİRİK\"\n",
        "print(isim[3:])\n",
        "print(\"Metnin uzunluğu = \",len(isim))\n",
        "\n",
        "type(\"int(1311156)\")"
      ],
      "metadata": {
        "colab": {
          "base_uri": "https://localhost:8080/"
        },
        "id": "VpE_wjmOD0Rs",
        "outputId": "062d3e97-4010-4b35-e48d-69cde689957e"
      },
      "execution_count": null,
      "outputs": [
        {
          "output_type": "stream",
          "name": "stdout",
          "text": [
            "aib DİRİK\n",
            "Metnin uzunluğu =  12\n"
          ]
        },
        {
          "output_type": "execute_result",
          "data": {
            "text/plain": [
              "str"
            ]
          },
          "metadata": {},
          "execution_count": 5
        }
      ]
    },
    {
      "cell_type": "code",
      "source": [
        "musteriAdi = input(\"Müşterinin adını giriniz : \")\n",
        "musteriSoyadi =input(\"Müşterinin soyadını giriniz : \")"
      ],
      "metadata": {
        "colab": {
          "base_uri": "https://localhost:8080/"
        },
        "id": "LgAYCiKhIxpN",
        "outputId": "def13299-0e0e-4022-9666-c0842b393b0a"
      },
      "execution_count": null,
      "outputs": [
        {
          "name": "stdout",
          "output_type": "stream",
          "text": [
            "Müşterinin adını giriniz : regaib\n",
            "Müşterinin soyadını giriniz : dirik\n"
          ]
        }
      ]
    },
    {
      "cell_type": "code",
      "source": [
        "print(\"\")"
      ],
      "metadata": {
        "id": "CdP6fO9vHKy9"
      },
      "execution_count": null,
      "outputs": []
    },
    {
      "cell_type": "code",
      "source": [
        "# Boş bir To-Do listesi oluşturma\n",
        "to_do_list = []\n",
        "\n",
        "# Kullanıcıdan alınan girdileri listeye ekleyen fonksiyon\n",
        "def add_task(to_do_list):\n",
        "    task = input(\"Yapılacak görevi girin: \")\n",
        "    to_do_list.append(task)\n",
        "    print(\"Görev başarıyla eklendi.\")\n",
        "\n",
        "# Listede bulunan görevleri gösteren fonksiyon\n",
        "def show_tasks(to_do_list):\n",
        "    print(\"Yapılacak Görevler: \")\n",
        "    for task in to_do_list:\n",
        "        print(\"- \" + task)\n",
        "\n",
        "# Listeden görev silen fonksiyon\n",
        "def delete_task(to_do_list):\n",
        "    task = input(\"Silmek istediğiniz görevi girin: \")\n",
        "    if task in to_do_list:\n",
        "        to_do_list.remove(task)\n",
        "        print(\"Görev başarıyla silindi.\")\n",
        "    else:\n",
        "        print(\"Görev bulunamadı.\")\n",
        "\n",
        "# Ana döngü\n",
        "while True:\n",
        "    print(\"\\nTo-Do List Uygulaması\")\n",
        "    print(\"1. Görev Ekle\")\n",
        "    print(\"2. Görevleri Göster\")\n",
        "    print(\"3. Görev Sil\")\n",
        "    print(\"4. Çıkış\")\n",
        "    choice = input(\"Seçiminiz (1/2/3/4): \")\n",
        "\n",
        "    if choice == \"1\":\n",
        "        add_task(to_do_list)\n",
        "    elif choice == \"2\":\n",
        "        show_tasks(to_do_list)\n",
        "    elif choice == \"3\":\n",
        "        delete_task(to_do_list)\n",
        "    elif choice == \"4\":\n",
        "        print(\"Uygulamadan çıkılıyor...\")\n",
        "        break\n",
        "    else:\n",
        "        print(\"Geçersiz seçim. Lütfen tekrar deneyin.\")\n",
        ""
      ],
      "metadata": {
        "colab": {
          "base_uri": "https://localhost:8080/"
        },
        "id": "q2ZHNY355g5t",
        "outputId": "1e176500-97aa-42eb-a7c8-7fb124c1311b"
      },
      "execution_count": 1,
      "outputs": [
        {
          "output_type": "stream",
          "name": "stdout",
          "text": [
            "\n",
            "To-Do List Uygulaması\n",
            "1. Görev Ekle\n",
            "2. Görevleri Göster\n",
            "3. Görev Sil\n",
            "4. Çıkış\n",
            "Seçiminiz (1/2/3/4): 1\n",
            "Yapılacak görevi girin: uyandırma\n",
            "Görev başarıyla eklendi.\n",
            "\n",
            "To-Do List Uygulaması\n",
            "1. Görev Ekle\n",
            "2. Görevleri Göster\n",
            "3. Görev Sil\n",
            "4. Çıkış\n",
            "Seçiminiz (1/2/3/4): 2\n",
            "Yapılacak Görevler: \n",
            "- uyandırma\n",
            "\n",
            "To-Do List Uygulaması\n",
            "1. Görev Ekle\n",
            "2. Görevleri Göster\n",
            "3. Görev Sil\n",
            "4. Çıkış\n",
            "Seçiminiz (1/2/3/4): 1\n",
            "Yapılacak görevi girin: kalkış saati\n",
            "Görev başarıyla eklendi.\n",
            "\n",
            "To-Do List Uygulaması\n",
            "1. Görev Ekle\n",
            "2. Görevleri Göster\n",
            "3. Görev Sil\n",
            "4. Çıkış\n",
            "Seçiminiz (1/2/3/4): 3\n",
            "Silmek istediğiniz görevi girin: 1\n",
            "Görev bulunamadı.\n",
            "\n",
            "To-Do List Uygulaması\n",
            "1. Görev Ekle\n",
            "2. Görevleri Göster\n",
            "3. Görev Sil\n",
            "4. Çıkış\n",
            "Seçiminiz (1/2/3/4): 3\n",
            "Silmek istediğiniz görevi girin: uyandırma\n",
            "Görev başarıyla silindi.\n",
            "\n",
            "To-Do List Uygulaması\n",
            "1. Görev Ekle\n",
            "2. Görevleri Göster\n",
            "3. Görev Sil\n",
            "4. Çıkış\n",
            "Seçiminiz (1/2/3/4): 4\n",
            "Uygulamadan çıkılıyor...\n"
          ]
        }
      ]
    }
  ]
}