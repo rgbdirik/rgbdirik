{
  "nbformat": 4,
  "nbformat_minor": 0,
  "metadata": {
    "colab": {
      "provenance": [],
      "authorship_tag": "ABX9TyNm0v/JMqYkyw505AySsohN",
      "include_colab_link": true
    },
    "kernelspec": {
      "name": "python3",
      "display_name": "Python 3"
    },
    "language_info": {
      "name": "python"
    }
  },
  "cells": [
    {
      "cell_type": "markdown",
      "metadata": {
        "id": "view-in-github",
        "colab_type": "text"
      },
      "source": [
        "<a href=\"https://colab.research.google.com/github/rgbdirik/rgbdirik/blob/python_programming/birSaattePython.ipynb\" target=\"_parent\"><img src=\"https://colab.research.google.com/assets/colab-badge.svg\" alt=\"Open In Colab\"/></a>"
      ]
    },
    {
      "cell_type": "code",
      "source": [
        "\n",
        "# Değişkenler\n",
        "x=3                                                                             # tamsayı atama\n",
        "print(x)\n",
        "print(\"X değişkeninin tipi : \",type(x),\"' dır.\")\n",
        "isim = \"enes\"                                                                 # string değişken atama\n",
        "print(isim)\n",
        "print(\"isim değişkeninin tipi : \",type(isim),\"' dir.\")\n",
        "fiyat = 13.95                                                                   # float değişken atama\n",
        "print(fiyat)\n",
        "print(\"fiyat değişkenini tipi : \",type(fiyat),\"' dır.\")\n",
        "aldimi = False                                                                  # boolean değişken atama\n",
        "print(\"aldimi değişkeninin tipi : \",type(aldimi),\"' dir.\")\n",
        "\n",
        "isim = input(\"Lütfen adınızı giriniz : \")                                       # klavyeden giriş yapmak için kullanılır.\n",
        "print(\"Merhaba \"+isim)                                                          # stringleri birleştirmek için + işaretini kullanıyoruz.\n",
        "\n",
        "yemek = input(\"Sevdiğiniz yemeği giriniz : \")\n",
        "print(isim+\"' in en sevdiği yemek \"+yemek+\" dır.\")\n",
        "yas = input(\"Lutfen yasınızı giriniz : \")\n",
        "yas_gir= 32\n",
        "print(isim+\" \"+yas+\" yasındadır.\")\n",
        "print(isim+\" \"+str(yas_gir)+\" yasındadır.\")\n",
        "\n",
        "# Matematiksel işlemler:\n",
        "\n",
        "x = 10\n",
        "y = 4\n",
        "print(\"*** DÖRT İŞLEM ***\")\n",
        "print(\"Toplam = \",x+y)\n",
        "print(\"Çıkarma = \",x-y)\n",
        "print(\"Bölme = \",x/y)\n",
        "print(\"Çarpma = \",x*y)\n",
        "print(\"Tam olarak bölme = \",x//y)\n",
        "print(\"Bölme de kalan bulmak için yüzde(%) ifadesi kullanılır. Sonuç = \",x%y)\n",
        "print(\"Üs almak için ** ifadesi kullanılır. Sonuç = \", x**y)\n",
        "\n",
        "# Kullanıcıdan ıkı sayı alan ve işlem yapan.\n",
        "\n",
        "sayi1 = int(input(\"Birinci sayıyı giriniz : \"))\n",
        "sayi2 = int(input(\"İkinci sayıyı giriniz : \"))\n",
        "print(\"Toplam = \",sayi1+sayi2)\n",
        "\n",
        "a = -15\n",
        "print(abs(a))         # abs fonksiyonu mutlak değer almak için kullanılır.\n"
      ],
      "metadata": {
        "colab": {
          "base_uri": "https://localhost:8080/"
        },
        "id": "VpE_wjmOD0Rs",
        "outputId": "e26cdf0f-211f-4c84-b122-b7a17ed4fa24"
      },
      "execution_count": 4,
      "outputs": [
        {
          "output_type": "stream",
          "name": "stdout",
          "text": [
            "Birinci sayıyı giriniz : 12\n",
            "İkinci sayıyı giriniz : 23\n",
            "Toplam =  35\n",
            "15\n"
          ]
        }
      ]
    },
    {
      "cell_type": "code",
      "source": [],
      "metadata": {
        "id": "CdP6fO9vHKy9"
      },
      "execution_count": null,
      "outputs": []
    }
  ]
}