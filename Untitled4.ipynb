{
  "nbformat": 4,
  "nbformat_minor": 0,
  "metadata": {
    "colab": {
      "provenance": [],
      "authorship_tag": "ABX9TyOjFPUNNpTu08SfudJiHV7b",
      "include_colab_link": true
    },
    "kernelspec": {
      "name": "python3",
      "display_name": "Python 3"
    },
    "language_info": {
      "name": "python"
    }
  },
  "cells": [
    {
      "cell_type": "markdown",
      "metadata": {
        "id": "view-in-github",
        "colab_type": "text"
      },
      "source": [
        "<a href=\"https://colab.research.google.com/github/rgbdirik/rgbdirik/blob/python_programming/Untitled4.ipynb\" target=\"_parent\"><img src=\"https://colab.research.google.com/assets/colab-badge.svg\" alt=\"Open In Colab\"/></a>"
      ]
    },
    {
      "cell_type": "code",
      "source": [
        "x=3\n",
        "print(x)\n",
        "isim = \"REGAİB\"\n",
        "print(type(x))\n",
        "print(isim)\n",
        "print(type(isim))\n",
        "print(\"Regaib'in \")\n",
        "print(\"\"\"deneme amaclı kullanım\n",
        "bakalım nasıl yazacak\"\"\")"
      ],
      "metadata": {
        "colab": {
          "base_uri": "https://localhost:8080/"
        },
        "id": "RL2S2NQEBv8q",
        "outputId": "7e114e96-b80c-416e-fbac-3bcbe4a80725"
      },
      "execution_count": 11,
      "outputs": [
        {
          "output_type": "stream",
          "name": "stdout",
          "text": [
            "3\n",
            "<class 'int'>\n",
            "REGAİB\n",
            "<class 'str'>\n",
            "Regaib'in \n",
            "deneme amaclı kullanım \n",
            "bakalım nasıl yazacak\n"
          ]
        }
      ]
    }
  ]
}