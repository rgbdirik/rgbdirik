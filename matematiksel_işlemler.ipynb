{
  "nbformat": 4,
  "nbformat_minor": 0,
  "metadata": {
    "colab": {
      "provenance": [],
      "authorship_tag": "ABX9TyPtbRRQmbPzkxAsFsk1pcQf",
      "include_colab_link": true
    },
    "kernelspec": {
      "name": "python3",
      "display_name": "Python 3"
    },
    "language_info": {
      "name": "python"
    }
  },
  "cells": [
    {
      "cell_type": "markdown",
      "metadata": {
        "id": "view-in-github",
        "colab_type": "text"
      },
      "source": [
        "<a href=\"https://colab.research.google.com/github/rgbdirik/rgbdirik/blob/main/matematiksel_i%C5%9Flemler.ipynb\" target=\"_parent\"><img src=\"https://colab.research.google.com/assets/colab-badge.svg\" alt=\"Open In Colab\"/></a>"
      ]
    },
    {
      "cell_type": "code",
      "execution_count": 7,
      "metadata": {
        "colab": {
          "base_uri": "https://localhost:8080/"
        },
        "id": "rgtalaJAZTWD",
        "outputId": "d8e8a60f-da11-4f5e-878a-08f9ce97a18e"
      },
      "outputs": [
        {
          "output_type": "stream",
          "name": "stdout",
          "text": [
            "toplam = 23\n",
            "toplam = 23\n"
          ]
        }
      ],
      "source": [
        "# Toplama işlemi - aşağıda iki farklı şekilde ekrana yazdırabilirsiniz.\n",
        "sayi1 = 10\n",
        "sayi2 = 13\n",
        "toplam = sayi1 + sayi2\n",
        "print(\"toplam =\",toplam)\n",
        "print(\"toplam =\",sayi1+sayi2)"
      ]
    },
    {
      "cell_type": "code",
      "source": [
        "# Çıkarma işlemi\n",
        "sayi1 = 12\n",
        "sayi2 = 9\n",
        "cikarma = sayi1 - sayi2\n",
        "print(\"Çıkarma işlem sonucu = \",cikarma)\n",
        "print(\"İşlem sonucu = \",sayi1-sayi2)"
      ],
      "metadata": {
        "colab": {
          "base_uri": "https://localhost:8080/"
        },
        "id": "hP-PQVPkdU_S",
        "outputId": "b5244b75-e044-40a9-aa2a-26e62fa8b5eb"
      },
      "execution_count": 10,
      "outputs": [
        {
          "output_type": "stream",
          "name": "stdout",
          "text": [
            "Çıkarma işlem sonucu =  3\n",
            "İşlem sonucu =  3\n"
          ]
        }
      ]
    },
    {
      "cell_type": "code",
      "source": [],
      "metadata": {
        "id": "23xZuJaleL4h"
      },
      "execution_count": null,
      "outputs": []
    }
  ]
}